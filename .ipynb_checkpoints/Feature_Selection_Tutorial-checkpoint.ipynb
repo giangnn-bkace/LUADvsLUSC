{
 "cells": [
  {
   "cell_type": "markdown",
   "metadata": {},
   "source": [
    "# Import Libraries"
   ]
  },
  {
   "cell_type": "code",
   "execution_count": 1,
   "metadata": {},
   "outputs": [
    {
     "name": "stderr",
     "output_type": "stream",
     "text": [
      "C:\\Users\\giang\\Anaconda3\\envs\\luadlusc\\lib\\site-packages\\sklearn\\utils\\__init__.py:4: DeprecationWarning: Using or importing the ABCs from 'collections' instead of from 'collections.abc' is deprecated, and in 3.8 it will stop working\n",
      "  from collections import Sequence\n"
     ]
    }
   ],
   "source": [
    "import numpy as np\n",
    "# pandas library used to load data\n",
    "import pandas as pd\n",
    "# libraries from scikit-learn used to perform Feature Selection\n",
    "from sklearn.feature_selection import SelectKBest\n",
    "from sklearn.feature_selection import chi2\n",
    "# libraries from scikit-learn used to perform Support Vector Machine\n",
    "from sklearn.svm import SVC\n",
    "# libraries from scikit-learn used to perform Cross Validation\n",
    "from sklearn.pipeline import Pipeline \n",
    "from sklearn.model_selection import cross_val_score"
   ]
  },
  {
   "cell_type": "markdown",
   "metadata": {},
   "source": [
    "# Load LUAD and LUSC data"
   ]
  },
  {
   "cell_type": "code",
   "execution_count": 2,
   "metadata": {},
   "outputs": [],
   "source": [
    "# load 2 data from processed dataset\n",
    "data_LUAD = pd.read_csv('data_LUAD.csv', index_col=['Unnamed: 0'])\n",
    "data_LUSC = pd.read_csv('data_LUSC.csv', index_col=['Unnamed: 0'])\n",
    "# join 2 data into one\n",
    "data = pd.concat([data_LUAD, data_LUSC], join='outer', ignore_index = False, sort=False)\n",
    "# fill NA values by 0\n",
    "data = data.fillna(0)\n",
    "# seperate class labels from the data\n",
    "target = data['target']\n",
    "data.drop(columns=['target'], inplace=True)"
   ]
  },
  {
   "cell_type": "markdown",
   "metadata": {},
   "source": [
    "# Perform Cross-Validation"
   ]
  },
  {
   "cell_type": "markdown",
   "metadata": {},
   "source": [
    "* **Feature selection method:** Univariate feature selection - select 300 highest scoring features - using chi-square score"
   ]
  },
  {
   "cell_type": "code",
   "execution_count": 3,
   "metadata": {},
   "outputs": [
    {
     "data": {
      "text/plain": [
       "SelectKBest(k=300, score_func=<function chi2 at 0x0000022F251E0378>)"
      ]
     },
     "execution_count": 3,
     "metadata": {},
     "output_type": "execute_result"
    }
   ],
   "source": [
    "skb = SelectKBest(chi2, k=300)\n",
    "skb"
   ]
  },
  {
   "cell_type": "markdown",
   "metadata": {},
   "source": [
    "* **Classification method:** Support Vector Machine"
   ]
  },
  {
   "cell_type": "code",
   "execution_count": 4,
   "metadata": {},
   "outputs": [
    {
     "data": {
      "text/plain": [
       "SVC(C=1.0, cache_size=200, class_weight=None, coef0=0.0,\n",
       "  decision_function_shape='ovr', degree=3, gamma='auto', kernel='rbf',\n",
       "  max_iter=-1, probability=False, random_state=None, shrinking=True,\n",
       "  tol=0.001, verbose=False)"
      ]
     },
     "execution_count": 4,
     "metadata": {},
     "output_type": "execute_result"
    }
   ],
   "source": [
    "svc = SVC()\n",
    "svc"
   ]
  },
  {
   "cell_type": "markdown",
   "metadata": {},
   "source": [
    "* **Cross validation method:** 10-fold cross-validation (**_running for 10 times_**)"
   ]
  },
  {
   "cell_type": "code",
   "execution_count": 5,
   "metadata": {},
   "outputs": [
    {
     "data": {
      "text/plain": [
       "[array([0.8317757 , 0.81308411, 0.85849057, 0.79245283, 0.77358491,\n",
       "        0.83018868, 0.73584906, 0.81904762, 0.76190476, 0.83809524]),\n",
       " array([0.8317757 , 0.81308411, 0.85849057, 0.79245283, 0.77358491,\n",
       "        0.83018868, 0.73584906, 0.81904762, 0.76190476, 0.83809524]),\n",
       " array([0.8317757 , 0.81308411, 0.85849057, 0.79245283, 0.77358491,\n",
       "        0.83018868, 0.73584906, 0.81904762, 0.76190476, 0.83809524]),\n",
       " array([0.8317757 , 0.81308411, 0.85849057, 0.79245283, 0.77358491,\n",
       "        0.83018868, 0.73584906, 0.81904762, 0.76190476, 0.83809524]),\n",
       " array([0.8317757 , 0.81308411, 0.85849057, 0.79245283, 0.77358491,\n",
       "        0.83018868, 0.73584906, 0.81904762, 0.76190476, 0.83809524]),\n",
       " array([0.8317757 , 0.81308411, 0.85849057, 0.79245283, 0.77358491,\n",
       "        0.83018868, 0.73584906, 0.81904762, 0.76190476, 0.83809524]),\n",
       " array([0.8317757 , 0.81308411, 0.85849057, 0.79245283, 0.77358491,\n",
       "        0.83018868, 0.73584906, 0.81904762, 0.76190476, 0.83809524]),\n",
       " array([0.8317757 , 0.81308411, 0.85849057, 0.79245283, 0.77358491,\n",
       "        0.83018868, 0.73584906, 0.81904762, 0.76190476, 0.83809524]),\n",
       " array([0.8317757 , 0.81308411, 0.85849057, 0.79245283, 0.77358491,\n",
       "        0.83018868, 0.73584906, 0.81904762, 0.76190476, 0.83809524]),\n",
       " array([0.8317757 , 0.81308411, 0.85849057, 0.79245283, 0.77358491,\n",
       "        0.83018868, 0.73584906, 0.81904762, 0.76190476, 0.83809524])]"
      ]
     },
     "execution_count": 5,
     "metadata": {},
     "output_type": "execute_result"
    }
   ],
   "source": [
    "pipe = Pipeline([\n",
    "        (\"feature_selection\", skb), (\"classification\", svc)\n",
    "    ])\n",
    "cv_score = []\n",
    "for i in range(10):\n",
    "    score = cross_val_score(pipe, data, target, cv=10)\n",
    "    cv_score.append(score)\n",
    "cv_score"
   ]
  },
  {
   "cell_type": "markdown",
   "metadata": {},
   "source": [
    "* **Average accuracy:**"
   ]
  },
  {
   "cell_type": "code",
   "execution_count": 6,
   "metadata": {},
   "outputs": [
    {
     "name": "stdout",
     "output_type": "stream",
     "text": [
      "Avarage accuarcy: 0.805447\n"
     ]
    }
   ],
   "source": [
    "print(\"Avarage accuarcy: %f\" % (np.mean(cv_score)))"
   ]
  }
 ],
 "metadata": {
  "kernelspec": {
   "display_name": "Python 3",
   "language": "python",
   "name": "python3"
  },
  "language_info": {
   "codemirror_mode": {
    "name": "ipython",
    "version": 3
   },
   "file_extension": ".py",
   "mimetype": "text/x-python",
   "name": "python",
   "nbconvert_exporter": "python",
   "pygments_lexer": "ipython3",
   "version": "3.7.0"
  }
 },
 "nbformat": 4,
 "nbformat_minor": 2
}
