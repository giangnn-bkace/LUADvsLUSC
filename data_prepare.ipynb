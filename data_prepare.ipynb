{
 "cells": [
  {
   "cell_type": "code",
   "execution_count": 1,
   "metadata": {},
   "outputs": [],
   "source": [
    "import numpy as np\n",
    "import pandas as pd\n",
    "from tqdm import tqdm"
   ]
  },
  {
   "cell_type": "code",
   "execution_count": 2,
   "metadata": {},
   "outputs": [],
   "source": [
    "def process_data(original_data):\n",
    "    orig = pd.DataFrame(data=original_data.loc[:,['case_id','Hugo_Symbol']])\n",
    "    processed_data = pd.DataFrame(index=np.unique(orig['case_id']), columns=np.unique(orig['Hugo_Symbol']))\n",
    "    for i in tqdm(range(processed_data.shape[0])):\n",
    "        list_gene = orig[orig['case_id'] == processed_data.index.values[i]]['Hugo_Symbol']\n",
    "        dct = {x:1 for x in list_gene.values}\n",
    "        processed_data.iloc[i] = pd.Series(dct)\n",
    "    processed_data = processed_data.fillna(0)\n",
    "    return processed_data"
   ]
  },
  {
   "cell_type": "code",
   "execution_count": 3,
   "metadata": {},
   "outputs": [
    {
     "name": "stderr",
     "output_type": "stream",
     "text": [
      "C:\\Users\\NGN\\Anaconda3\\envs\\luadlusc\\lib\\site-packages\\IPython\\core\\interactiveshell.py:2785: DtypeWarning: Columns (87,88,118) have mixed types. Specify dtype option on import or set low_memory=False.\n",
      "  interactivity=interactivity, compiler=compiler, result=result)\n",
      "100%|████████████████████████████████████████████████████████████████████████████████| 567/567 [08:24<00:00,  1.12it/s]\n"
     ]
    }
   ],
   "source": [
    "LUAD_data = pd.read_csv('TCGA.LUAD.mutect.0458c57f-316c-4a7c-9294-ccd11c97c2f9.DR-10.0.somatic.maf', delimiter='\\t', header=0, skiprows=[0,1,2,3,4])\n",
    "processed_LUAD = process_data(LUAD_data)\n",
    "processed_LUAD['target'] = 0\n",
    "processed_LUAD.to_csv('data_LUAD.csv')"
   ]
  },
  {
   "cell_type": "code",
   "execution_count": 4,
   "metadata": {},
   "outputs": [
    {
     "name": "stderr",
     "output_type": "stream",
     "text": [
      "C:\\Users\\NGN\\Anaconda3\\envs\\luadlusc\\lib\\site-packages\\IPython\\core\\interactiveshell.py:2785: DtypeWarning: Columns (87,88,118) have mixed types. Specify dtype option on import or set low_memory=False.\n",
      "  interactivity=interactivity, compiler=compiler, result=result)\n",
      "100%|████████████████████████████████████████████████████████████████████████████████| 492/492 [06:53<00:00,  1.19it/s]\n"
     ]
    }
   ],
   "source": [
    "LUSC_data = pd.read_csv('TCGA.LUSC.mutect.95258183-63ea-4c97-ae29-1bae9ed06334.DR-10.0.somatic.maf', delimiter='\\t', header=0, skiprows=[0,1,2,3,4])\n",
    "processed_LUSC = process_data(LUSC_data)\n",
    "processed_LUSC['target'] = 1\n",
    "processed_LUSC.to_csv('data_LUSC.csv')"
   ]
  }
 ],
 "metadata": {
  "kernelspec": {
   "display_name": "Python 3",
   "language": "python",
   "name": "python3"
  },
  "language_info": {
   "codemirror_mode": {
    "name": "ipython",
    "version": 3
   },
   "file_extension": ".py",
   "mimetype": "text/x-python",
   "name": "python",
   "nbconvert_exporter": "python",
   "pygments_lexer": "ipython3",
   "version": "3.7.0"
  }
 },
 "nbformat": 4,
 "nbformat_minor": 2
}
